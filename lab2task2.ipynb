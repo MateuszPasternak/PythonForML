{
  "nbformat": 4,
  "nbformat_minor": 0,
  "metadata": {
    "colab": {
      "provenance": [],
      "authorship_tag": "ABX9TyMJID2jFS98dImXeBvEYLVH",
      "include_colab_link": true
    },
    "kernelspec": {
      "name": "python3",
      "display_name": "Python 3"
    },
    "language_info": {
      "name": "python"
    }
  },
  "cells": [
    {
      "cell_type": "markdown",
      "metadata": {
        "id": "view-in-github",
        "colab_type": "text"
      },
      "source": [
        "<a href=\"https://colab.research.google.com/github/MateuszPasternak/PythonForML/blob/while_variant/lab2task2.ipynb\" target=\"_parent\"><img src=\"https://colab.research.google.com/assets/colab-badge.svg\" alt=\"Open In Colab\"/></a>"
      ]
    },
    {
      "cell_type": "code",
      "execution_count": 7,
      "metadata": {
        "id": "SX16Fglfl4iX"
      },
      "outputs": [],
      "source": [
        "list = []\n",
        "i = 0\n",
        "while(i != 50):\n",
        "  list.append(i)\n",
        "  i += 1"
      ]
    },
    {
      "cell_type": "code",
      "source": [
        "print(list)"
      ],
      "metadata": {
        "id": "4-hbuMQvl9MC",
        "colab": {
          "base_uri": "https://localhost:8080/"
        },
        "outputId": "9a3aa75b-3fac-4d33-ee29-0b2fe631f4eb"
      },
      "execution_count": 8,
      "outputs": [
        {
          "output_type": "stream",
          "name": "stdout",
          "text": [
            "[0, 1, 2, 3, 4, 5, 6, 7, 8, 9, 10, 11, 12, 13, 14, 15, 16, 17, 18, 19, 20, 21, 22, 23, 24, 25, 26, 27, 28, 29, 30, 31, 32, 33, 34, 35, 36, 37, 38, 39, 40, 41, 42, 43, 44, 45, 46, 47, 48, 49]\n"
          ]
        }
      ]
    },
    {
      "cell_type": "code",
      "source": [],
      "metadata": {
        "id": "Ths0h0P6m5Da"
      },
      "execution_count": null,
      "outputs": []
    }
  ]
}