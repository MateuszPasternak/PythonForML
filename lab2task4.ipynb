{
  "nbformat": 4,
  "nbformat_minor": 0,
  "metadata": {
    "colab": {
      "provenance": [],
      "include_colab_link": true
    },
    "kernelspec": {
      "name": "python3",
      "display_name": "Python 3"
    },
    "language_info": {
      "name": "python"
    }
  },
  "cells": [
    {
      "cell_type": "markdown",
      "metadata": {
        "id": "view-in-github",
        "colab_type": "text"
      },
      "source": [
        "<a href=\"https://colab.research.google.com/github/MateuszPasternak/PythonForML_AGH/blob/MarSBranch/lab2task4.ipynb\" target=\"_parent\"><img src=\"https://colab.research.google.com/assets/colab-badge.svg\" alt=\"Open In Colab\"/></a>"
      ]
    },
    {
      "cell_type": "code",
      "execution_count": null,
      "metadata": {
        "id": "cZcIGyX8t1Z-"
      },
      "outputs": [],
      "source": [
        "def FuncOne():\n",
        "  return"
      ]
    },
    {
      "cell_type": "code",
      "source": [
        "def FuncTwo():\n",
        "  return"
      ],
      "metadata": {
        "id": "3jdYwWHYuDg6"
      },
      "execution_count": null,
      "outputs": []
    },
    {
      "cell_type": "code",
      "source": [
        "def FuncThree():\n",
        "  print(\"Maria\")\n",
        "  return"
      ],
      "metadata": {
        "id": "tfVLpafzuDZC"
      },
      "execution_count": null,
      "outputs": []
    },
    {
      "cell_type": "code",
      "source": [
        "def FuncFour():\n",
        "  return"
      ],
      "metadata": {
        "id": "FAE8q5iJuEQC"
      },
      "execution_count": null,
      "outputs": []
    },
    {
      "cell_type": "code",
      "source": [
        "FuncOne()\n",
        "FuncTwo()\n",
        "FuncThree()\n",
        "FuncFour()"
      ],
      "metadata": {
        "id": "SYx7f9TquHaS"
      },
      "execution_count": null,
      "outputs": []
    },
    {
      "cell_type": "code",
      "source": [],
      "metadata": {
        "id": "Hrhb_a72uMwD"
      },
      "execution_count": null,
      "outputs": []
    }
  ]
}